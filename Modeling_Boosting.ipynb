{
 "cells": [
  {
   "cell_type": "code",
   "execution_count": 1,
   "id": "d07d7468",
   "metadata": {},
   "outputs": [],
   "source": [
    "import sys\n",
    "import pandas as pd\n",
    "import seaborn as sns\n",
    "import matplotlib.pyplot as plt\n",
    "import numpy as np\n",
    "from numpy import mean\n",
    "from numpy import std\n",
    "from sklearn import preprocessing\n",
    "\n",
    "from sklearn.model_selection import train_test_split,cross_val_score,GridSearchCV\n",
    "from sklearn.model_selection import RandomizedSearchCV\n",
    "from sklearn.discriminant_analysis import LinearDiscriminantAnalysis\n",
    "from sklearn.ensemble import GradientBoostingClassifier\n",
    "from sklearn.metrics import accuracy_score,confusion_matrix,roc_auc_score\n",
    "from sklearn import metrics\n",
    "from sklearn.metrics import classification_report, roc_auc_score\n",
    "from sklearn.preprocessing import StandardScaler \n",
    "from sklearn.pipeline import Pipeline \n",
    "from sklearn.preprocessing import LabelEncoder\n",
    "from sklearn.preprocessing import OneHotEncoder\n",
    "from sklearn.model_selection import cross_val_score\n",
    "from sklearn.model_selection import RepeatedKFold\n",
    "from sklearn.ensemble import GradientBoostingRegressor\n",
    "from sklearn.metrics import r2_score\n",
    "from sklearn.metrics import mean_squared_error as MSE\n",
    "\n",
    "import xgboost as xg"
   ]
  },
  {
   "cell_type": "markdown",
   "id": "baa2a9c6",
   "metadata": {},
   "source": [
    "### Data Processing"
   ]
  },
  {
   "cell_type": "code",
   "execution_count": 2,
   "id": "bb844892",
   "metadata": {
    "scrolled": true
   },
   "outputs": [
    {
     "data": {
      "text/html": [
       "<div>\n",
       "<style scoped>\n",
       "    .dataframe tbody tr th:only-of-type {\n",
       "        vertical-align: middle;\n",
       "    }\n",
       "\n",
       "    .dataframe tbody tr th {\n",
       "        vertical-align: top;\n",
       "    }\n",
       "\n",
       "    .dataframe thead th {\n",
       "        text-align: right;\n",
       "    }\n",
       "</style>\n",
       "<table border=\"1\" class=\"dataframe\">\n",
       "  <thead>\n",
       "    <tr style=\"text-align: right;\">\n",
       "      <th></th>\n",
       "      <th>Unnamed: 0</th>\n",
       "      <th>airline</th>\n",
       "      <th>source_city</th>\n",
       "      <th>departure_time</th>\n",
       "      <th>stops</th>\n",
       "      <th>arrival_time</th>\n",
       "      <th>destination_city</th>\n",
       "      <th>class</th>\n",
       "      <th>duration</th>\n",
       "      <th>days_left</th>\n",
       "      <th>price</th>\n",
       "      <th>date</th>\n",
       "      <th>DOW</th>\n",
       "    </tr>\n",
       "  </thead>\n",
       "  <tbody>\n",
       "    <tr>\n",
       "      <th>0</th>\n",
       "      <td>206668</td>\n",
       "      <td>Air_India</td>\n",
       "      <td>Delhi</td>\n",
       "      <td>Evening</td>\n",
       "      <td>one</td>\n",
       "      <td>Night</td>\n",
       "      <td>Mumbai</td>\n",
       "      <td>Business</td>\n",
       "      <td>24.75</td>\n",
       "      <td>1</td>\n",
       "      <td>42220</td>\n",
       "      <td>2022-02-11</td>\n",
       "      <td>4</td>\n",
       "    </tr>\n",
       "    <tr>\n",
       "      <th>1</th>\n",
       "      <td>206669</td>\n",
       "      <td>Air_India</td>\n",
       "      <td>Delhi</td>\n",
       "      <td>Night</td>\n",
       "      <td>one</td>\n",
       "      <td>Night</td>\n",
       "      <td>Mumbai</td>\n",
       "      <td>Business</td>\n",
       "      <td>26.50</td>\n",
       "      <td>1</td>\n",
       "      <td>44450</td>\n",
       "      <td>2022-02-11</td>\n",
       "      <td>4</td>\n",
       "    </tr>\n",
       "  </tbody>\n",
       "</table>\n",
       "</div>"
      ],
      "text/plain": [
       "   Unnamed: 0    airline source_city departure_time stops arrival_time  \\\n",
       "0      206668  Air_India       Delhi        Evening   one        Night   \n",
       "1      206669  Air_India       Delhi          Night   one        Night   \n",
       "\n",
       "  destination_city     class  duration  days_left  price        date  DOW  \n",
       "0           Mumbai  Business     24.75          1  42220  2022-02-11    4  \n",
       "1           Mumbai  Business     26.50          1  44450  2022-02-11    4  "
      ]
     },
     "execution_count": 2,
     "metadata": {},
     "output_type": "execute_result"
    }
   ],
   "source": [
    "df = pd.read_csv(\"preprocessed.csv\")\n",
    "df.head(2)"
   ]
  },
  {
   "cell_type": "code",
   "execution_count": 3,
   "id": "fae36e87",
   "metadata": {},
   "outputs": [],
   "source": [
    "df = df.drop(columns=['Unnamed: 0','date'],axis=1)"
   ]
  },
  {
   "cell_type": "code",
   "execution_count": 4,
   "id": "8fc56e0c",
   "metadata": {},
   "outputs": [],
   "source": [
    "# one hot encoding\n",
    "df_boosting = pd.get_dummies(data=df, columns=['airline','source_city',\n",
    "                                              'departure_time','stops','arrival_time',\n",
    "                                              'destination_city','class','DOW'])"
   ]
  },
  {
   "cell_type": "code",
   "execution_count": 5,
   "id": "e34ba889",
   "metadata": {},
   "outputs": [
    {
     "data": {
      "text/html": [
       "<div>\n",
       "<style scoped>\n",
       "    .dataframe tbody tr th:only-of-type {\n",
       "        vertical-align: middle;\n",
       "    }\n",
       "\n",
       "    .dataframe tbody tr th {\n",
       "        vertical-align: top;\n",
       "    }\n",
       "\n",
       "    .dataframe thead th {\n",
       "        text-align: right;\n",
       "    }\n",
       "</style>\n",
       "<table border=\"1\" class=\"dataframe\">\n",
       "  <thead>\n",
       "    <tr style=\"text-align: right;\">\n",
       "      <th></th>\n",
       "      <th>duration</th>\n",
       "      <th>days_left</th>\n",
       "      <th>price</th>\n",
       "      <th>airline_Air_India</th>\n",
       "      <th>airline_Other</th>\n",
       "      <th>airline_Vistara</th>\n",
       "      <th>source_city_Bangalore</th>\n",
       "      <th>source_city_Chennai</th>\n",
       "      <th>source_city_Delhi</th>\n",
       "      <th>source_city_Hyderabad</th>\n",
       "      <th>...</th>\n",
       "      <th>destination_city_Mumbai</th>\n",
       "      <th>class_Business</th>\n",
       "      <th>class_Economy</th>\n",
       "      <th>DOW_0</th>\n",
       "      <th>DOW_1</th>\n",
       "      <th>DOW_2</th>\n",
       "      <th>DOW_3</th>\n",
       "      <th>DOW_4</th>\n",
       "      <th>DOW_5</th>\n",
       "      <th>DOW_6</th>\n",
       "    </tr>\n",
       "  </thead>\n",
       "  <tbody>\n",
       "    <tr>\n",
       "      <th>0</th>\n",
       "      <td>24.75</td>\n",
       "      <td>1</td>\n",
       "      <td>42220</td>\n",
       "      <td>1</td>\n",
       "      <td>0</td>\n",
       "      <td>0</td>\n",
       "      <td>0</td>\n",
       "      <td>0</td>\n",
       "      <td>1</td>\n",
       "      <td>0</td>\n",
       "      <td>...</td>\n",
       "      <td>1</td>\n",
       "      <td>1</td>\n",
       "      <td>0</td>\n",
       "      <td>0</td>\n",
       "      <td>0</td>\n",
       "      <td>0</td>\n",
       "      <td>0</td>\n",
       "      <td>1</td>\n",
       "      <td>0</td>\n",
       "      <td>0</td>\n",
       "    </tr>\n",
       "    <tr>\n",
       "      <th>1</th>\n",
       "      <td>26.50</td>\n",
       "      <td>1</td>\n",
       "      <td>44450</td>\n",
       "      <td>1</td>\n",
       "      <td>0</td>\n",
       "      <td>0</td>\n",
       "      <td>0</td>\n",
       "      <td>0</td>\n",
       "      <td>1</td>\n",
       "      <td>0</td>\n",
       "      <td>...</td>\n",
       "      <td>1</td>\n",
       "      <td>1</td>\n",
       "      <td>0</td>\n",
       "      <td>0</td>\n",
       "      <td>0</td>\n",
       "      <td>0</td>\n",
       "      <td>0</td>\n",
       "      <td>1</td>\n",
       "      <td>0</td>\n",
       "      <td>0</td>\n",
       "    </tr>\n",
       "  </tbody>\n",
       "</table>\n",
       "<p>2 rows × 42 columns</p>\n",
       "</div>"
      ],
      "text/plain": [
       "   duration  days_left  price  airline_Air_India  airline_Other  \\\n",
       "0     24.75          1  42220                  1              0   \n",
       "1     26.50          1  44450                  1              0   \n",
       "\n",
       "   airline_Vistara  source_city_Bangalore  source_city_Chennai  \\\n",
       "0                0                      0                    0   \n",
       "1                0                      0                    0   \n",
       "\n",
       "   source_city_Delhi  source_city_Hyderabad  ...  destination_city_Mumbai  \\\n",
       "0                  1                      0  ...                        1   \n",
       "1                  1                      0  ...                        1   \n",
       "\n",
       "   class_Business  class_Economy  DOW_0  DOW_1  DOW_2  DOW_3  DOW_4  DOW_5  \\\n",
       "0               1              0      0      0      0      0      1      0   \n",
       "1               1              0      0      0      0      0      1      0   \n",
       "\n",
       "   DOW_6  \n",
       "0      0  \n",
       "1      0  \n",
       "\n",
       "[2 rows x 42 columns]"
      ]
     },
     "execution_count": 5,
     "metadata": {},
     "output_type": "execute_result"
    }
   ],
   "source": [
    "df_boosting.head(2)"
   ]
  },
  {
   "cell_type": "code",
   "execution_count": 6,
   "id": "6660bd77",
   "metadata": {},
   "outputs": [],
   "source": [
    "X = df_boosting.drop(['price'], axis=1)\n",
    "y = df_boosting.price\n",
    "\n",
    "X_train, X_test, y_train, y_test = train_test_split(X, y, test_size=0.2, random_state=1)"
   ]
  },
  {
   "cell_type": "code",
   "execution_count": 7,
   "id": "91f3fc88",
   "metadata": {},
   "outputs": [
    {
     "data": {
      "text/plain": [
       "(216507, 41)"
      ]
     },
     "execution_count": 7,
     "metadata": {},
     "output_type": "execute_result"
    }
   ],
   "source": [
    "X_train.shape"
   ]
  },
  {
   "cell_type": "code",
   "execution_count": 8,
   "id": "fb4fdc15",
   "metadata": {},
   "outputs": [
    {
     "data": {
      "text/plain": [
       "(54127, 41)"
      ]
     },
     "execution_count": 8,
     "metadata": {},
     "output_type": "execute_result"
    }
   ],
   "source": [
    "X_test.shape"
   ]
  },
  {
   "cell_type": "code",
   "execution_count": 12,
   "id": "e65307e1",
   "metadata": {
    "execution": {
     "iopub.execute_input": "2023-02-24T05:13:49.159859Z",
     "iopub.status.busy": "2023-02-24T05:13:49.159226Z",
     "iopub.status.idle": "2023-02-24T05:13:49.173236Z",
     "shell.execute_reply": "2023-02-24T05:13:49.172715Z",
     "shell.execute_reply.started": "2023-02-24T05:13:49.159824Z"
    }
   },
   "outputs": [
    {
     "data": {
      "text/html": [
       "<div>\n",
       "<style scoped>\n",
       "    .dataframe tbody tr th:only-of-type {\n",
       "        vertical-align: middle;\n",
       "    }\n",
       "\n",
       "    .dataframe tbody tr th {\n",
       "        vertical-align: top;\n",
       "    }\n",
       "\n",
       "    .dataframe thead th {\n",
       "        text-align: right;\n",
       "    }\n",
       "</style>\n",
       "<table border=\"1\" class=\"dataframe\">\n",
       "  <thead>\n",
       "    <tr style=\"text-align: right;\">\n",
       "      <th></th>\n",
       "      <th>duration</th>\n",
       "      <th>days_left</th>\n",
       "      <th>airline_Air_India</th>\n",
       "      <th>airline_Other</th>\n",
       "      <th>airline_Vistara</th>\n",
       "      <th>source_city_Bangalore</th>\n",
       "      <th>source_city_Chennai</th>\n",
       "      <th>source_city_Delhi</th>\n",
       "      <th>source_city_Hyderabad</th>\n",
       "      <th>source_city_Kolkata</th>\n",
       "      <th>...</th>\n",
       "      <th>destination_city_Mumbai</th>\n",
       "      <th>class_Business</th>\n",
       "      <th>class_Economy</th>\n",
       "      <th>DOW_0</th>\n",
       "      <th>DOW_1</th>\n",
       "      <th>DOW_2</th>\n",
       "      <th>DOW_3</th>\n",
       "      <th>DOW_4</th>\n",
       "      <th>DOW_5</th>\n",
       "      <th>DOW_6</th>\n",
       "    </tr>\n",
       "  </thead>\n",
       "  <tbody>\n",
       "    <tr>\n",
       "      <th>215043</th>\n",
       "      <td>25.83</td>\n",
       "      <td>22</td>\n",
       "      <td>0</td>\n",
       "      <td>0</td>\n",
       "      <td>1</td>\n",
       "      <td>0</td>\n",
       "      <td>0</td>\n",
       "      <td>0</td>\n",
       "      <td>0</td>\n",
       "      <td>1</td>\n",
       "      <td>...</td>\n",
       "      <td>0</td>\n",
       "      <td>0</td>\n",
       "      <td>1</td>\n",
       "      <td>0</td>\n",
       "      <td>0</td>\n",
       "      <td>0</td>\n",
       "      <td>0</td>\n",
       "      <td>1</td>\n",
       "      <td>0</td>\n",
       "      <td>0</td>\n",
       "    </tr>\n",
       "    <tr>\n",
       "      <th>131333</th>\n",
       "      <td>2.17</td>\n",
       "      <td>43</td>\n",
       "      <td>1</td>\n",
       "      <td>0</td>\n",
       "      <td>0</td>\n",
       "      <td>0</td>\n",
       "      <td>0</td>\n",
       "      <td>0</td>\n",
       "      <td>0</td>\n",
       "      <td>0</td>\n",
       "      <td>...</td>\n",
       "      <td>0</td>\n",
       "      <td>0</td>\n",
       "      <td>1</td>\n",
       "      <td>0</td>\n",
       "      <td>0</td>\n",
       "      <td>0</td>\n",
       "      <td>0</td>\n",
       "      <td>1</td>\n",
       "      <td>0</td>\n",
       "      <td>0</td>\n",
       "    </tr>\n",
       "  </tbody>\n",
       "</table>\n",
       "<p>2 rows × 41 columns</p>\n",
       "</div>"
      ],
      "text/plain": [
       "        duration  days_left  airline_Air_India  airline_Other  \\\n",
       "215043     25.83         22                  0              0   \n",
       "131333      2.17         43                  1              0   \n",
       "\n",
       "        airline_Vistara  source_city_Bangalore  source_city_Chennai  \\\n",
       "215043                1                      0                    0   \n",
       "131333                0                      0                    0   \n",
       "\n",
       "        source_city_Delhi  source_city_Hyderabad  source_city_Kolkata  ...  \\\n",
       "215043                  0                      0                    1  ...   \n",
       "131333                  0                      0                    0  ...   \n",
       "\n",
       "        destination_city_Mumbai  class_Business  class_Economy  DOW_0  DOW_1  \\\n",
       "215043                        0               0              1      0      0   \n",
       "131333                        0               0              1      0      0   \n",
       "\n",
       "        DOW_2  DOW_3  DOW_4  DOW_5  DOW_6  \n",
       "215043      0      0      1      0      0  \n",
       "131333      0      0      1      0      0  \n",
       "\n",
       "[2 rows x 41 columns]"
      ]
     },
     "execution_count": 12,
     "metadata": {},
     "output_type": "execute_result"
    }
   ],
   "source": [
    "X_train.head(2)"
   ]
  },
  {
   "cell_type": "markdown",
   "id": "61f5a66e",
   "metadata": {},
   "source": [
    "### Gradient Boosting"
   ]
  },
  {
   "cell_type": "code",
   "execution_count": 45,
   "id": "09bb613a-e8b9-47e3-8f7b-16a1421b22c8",
   "metadata": {
    "execution": {
     "iopub.execute_input": "2023-02-24T06:05:09.564890Z",
     "iopub.status.busy": "2023-02-24T06:05:09.564372Z",
     "iopub.status.idle": "2023-02-24T06:06:28.102450Z",
     "shell.execute_reply": "2023-02-24T06:06:28.101468Z",
     "shell.execute_reply.started": "2023-02-24T06:05:09.564865Z"
    },
    "tags": []
   },
   "outputs": [
    {
     "name": "stdout",
     "output_type": "stream",
     "text": [
      "Fitting 2 folds for each of 36 candidates, totalling 72 fits\n",
      "best parameters {'learning_rate': 0.1, 'max_depth': 10, 'max_leaf_nodes': 50, 'n_estimators': 60, 'random_state': 1}\n",
      "best score -9501456.143831722\n"
     ]
    }
   ],
   "source": [
    "# grid search hyperparameter\n",
    "GBR = GradientBoostingRegressor()\n",
    "search_grid = {\"max_leaf_nodes\": [10, 20, 50],\n",
    "               'max_depth':[4,10],\n",
    "               'n_estimators':[20,40,60],\n",
    "               'learning_rate':[0.01,.1],\n",
    "               'random_state':[1]}\n",
    "search = GridSearchCV(estimator=GBR,\n",
    "                      param_grid=search_grid,\n",
    "                      scoring='neg_mean_squared_error',\n",
    "                      n_jobs=16,\n",
    "                      cv=2,\n",
    "                      verbose=True)\n",
    "\n",
    "search.fit(X_train,y_train)\n",
    "print('best parameters',search.best_params_)\n",
    "print('best score', search.best_score_)"
   ]
  },
  {
   "cell_type": "code",
   "execution_count": 64,
   "id": "8dc847af-5b84-49e6-9b45-ea96d925cc5d",
   "metadata": {
    "execution": {
     "iopub.execute_input": "2023-02-24T06:44:49.871776Z",
     "iopub.status.busy": "2023-02-24T06:44:49.871098Z",
     "iopub.status.idle": "2023-02-24T06:51:19.933174Z",
     "shell.execute_reply": "2023-02-24T06:51:19.932207Z",
     "shell.execute_reply.started": "2023-02-24T06:44:49.871749Z"
    },
    "tags": []
   },
   "outputs": [
    {
     "name": "stdout",
     "output_type": "stream",
     "text": [
      "Fitting 2 folds for each of 2 candidates, totalling 4 fits\n",
      "best parameters {'learning_rate': 0.1, 'max_depth': 10, 'max_leaf_nodes': 50, 'n_estimators': 1000, 'random_state': 1}\n",
      "best score -4379764.404861472\n"
     ]
    }
   ],
   "source": [
    "# grid search hyperparameter\n",
    "GBR = GradientBoostingRegressor()\n",
    "search_grid = {\"max_leaf_nodes\": [50],\n",
    "               'max_depth':[10],\n",
    "               'n_estimators':[500,1000],\n",
    "               'learning_rate':[.1],\n",
    "               'random_state':[1]}\n",
    "search = GridSearchCV(estimator=GBR,\n",
    "                      param_grid=search_grid,\n",
    "                      scoring='neg_mean_squared_error',\n",
    "                      n_jobs=16,\n",
    "                      cv=2,\n",
    "                      verbose=True)\n",
    "\n",
    "search.fit(X_train,y_train)\n",
    "print('best parameters',search.best_params_)\n",
    "print('best score', search.best_score_)"
   ]
  },
  {
   "cell_type": "code",
   "execution_count": 46,
   "id": "ef1ef1a9",
   "metadata": {
    "execution": {
     "iopub.execute_input": "2023-02-24T06:07:06.980537Z",
     "iopub.status.busy": "2023-02-24T06:07:06.980083Z",
     "iopub.status.idle": "2023-02-24T06:07:37.533106Z",
     "shell.execute_reply": "2023-02-24T06:07:37.532292Z",
     "shell.execute_reply.started": "2023-02-24T06:07:06.980502Z"
    },
    "tags": []
   },
   "outputs": [
    {
     "data": {
      "text/html": [
       "<style>#sk-container-id-3 {color: black;background-color: white;}#sk-container-id-3 pre{padding: 0;}#sk-container-id-3 div.sk-toggleable {background-color: white;}#sk-container-id-3 label.sk-toggleable__label {cursor: pointer;display: block;width: 100%;margin-bottom: 0;padding: 0.3em;box-sizing: border-box;text-align: center;}#sk-container-id-3 label.sk-toggleable__label-arrow:before {content: \"▸\";float: left;margin-right: 0.25em;color: #696969;}#sk-container-id-3 label.sk-toggleable__label-arrow:hover:before {color: black;}#sk-container-id-3 div.sk-estimator:hover label.sk-toggleable__label-arrow:before {color: black;}#sk-container-id-3 div.sk-toggleable__content {max-height: 0;max-width: 0;overflow: hidden;text-align: left;background-color: #f0f8ff;}#sk-container-id-3 div.sk-toggleable__content pre {margin: 0.2em;color: black;border-radius: 0.25em;background-color: #f0f8ff;}#sk-container-id-3 input.sk-toggleable__control:checked~div.sk-toggleable__content {max-height: 200px;max-width: 100%;overflow: auto;}#sk-container-id-3 input.sk-toggleable__control:checked~label.sk-toggleable__label-arrow:before {content: \"▾\";}#sk-container-id-3 div.sk-estimator input.sk-toggleable__control:checked~label.sk-toggleable__label {background-color: #d4ebff;}#sk-container-id-3 div.sk-label input.sk-toggleable__control:checked~label.sk-toggleable__label {background-color: #d4ebff;}#sk-container-id-3 input.sk-hidden--visually {border: 0;clip: rect(1px 1px 1px 1px);clip: rect(1px, 1px, 1px, 1px);height: 1px;margin: -1px;overflow: hidden;padding: 0;position: absolute;width: 1px;}#sk-container-id-3 div.sk-estimator {font-family: monospace;background-color: #f0f8ff;border: 1px dotted black;border-radius: 0.25em;box-sizing: border-box;margin-bottom: 0.5em;}#sk-container-id-3 div.sk-estimator:hover {background-color: #d4ebff;}#sk-container-id-3 div.sk-parallel-item::after {content: \"\";width: 100%;border-bottom: 1px solid gray;flex-grow: 1;}#sk-container-id-3 div.sk-label:hover label.sk-toggleable__label {background-color: #d4ebff;}#sk-container-id-3 div.sk-serial::before {content: \"\";position: absolute;border-left: 1px solid gray;box-sizing: border-box;top: 0;bottom: 0;left: 50%;z-index: 0;}#sk-container-id-3 div.sk-serial {display: flex;flex-direction: column;align-items: center;background-color: white;padding-right: 0.2em;padding-left: 0.2em;position: relative;}#sk-container-id-3 div.sk-item {position: relative;z-index: 1;}#sk-container-id-3 div.sk-parallel {display: flex;align-items: stretch;justify-content: center;background-color: white;position: relative;}#sk-container-id-3 div.sk-item::before, #sk-container-id-3 div.sk-parallel-item::before {content: \"\";position: absolute;border-left: 1px solid gray;box-sizing: border-box;top: 0;bottom: 0;left: 50%;z-index: -1;}#sk-container-id-3 div.sk-parallel-item {display: flex;flex-direction: column;z-index: 1;position: relative;background-color: white;}#sk-container-id-3 div.sk-parallel-item:first-child::after {align-self: flex-end;width: 50%;}#sk-container-id-3 div.sk-parallel-item:last-child::after {align-self: flex-start;width: 50%;}#sk-container-id-3 div.sk-parallel-item:only-child::after {width: 0;}#sk-container-id-3 div.sk-dashed-wrapped {border: 1px dashed gray;margin: 0 0.4em 0.5em 0.4em;box-sizing: border-box;padding-bottom: 0.4em;background-color: white;}#sk-container-id-3 div.sk-label label {font-family: monospace;font-weight: bold;display: inline-block;line-height: 1.2em;}#sk-container-id-3 div.sk-label-container {text-align: center;}#sk-container-id-3 div.sk-container {/* jupyter's `normalize.less` sets `[hidden] { display: none; }` but bootstrap.min.css set `[hidden] { display: none !important; }` so we also need the `!important` here to be able to override the default hidden behavior on the sphinx rendered scikit-learn.org. See: https://github.com/scikit-learn/scikit-learn/issues/21755 */display: inline-block !important;position: relative;}#sk-container-id-3 div.sk-text-repr-fallback {display: none;}</style><div id=\"sk-container-id-3\" class=\"sk-top-container\"><div class=\"sk-text-repr-fallback\"><pre>GradientBoostingRegressor(max_depth=10, max_leaf_nodes=50, n_estimators=60,\n",
       "                          random_state=1)</pre><b>In a Jupyter environment, please rerun this cell to show the HTML representation or trust the notebook. <br />On GitHub, the HTML representation is unable to render, please try loading this page with nbviewer.org.</b></div><div class=\"sk-container\" hidden><div class=\"sk-item\"><div class=\"sk-estimator sk-toggleable\"><input class=\"sk-toggleable__control sk-hidden--visually\" id=\"sk-estimator-id-3\" type=\"checkbox\" checked><label for=\"sk-estimator-id-3\" class=\"sk-toggleable__label sk-toggleable__label-arrow\">GradientBoostingRegressor</label><div class=\"sk-toggleable__content\"><pre>GradientBoostingRegressor(max_depth=10, max_leaf_nodes=50, n_estimators=60,\n",
       "                          random_state=1)</pre></div></div></div></div></div>"
      ],
      "text/plain": [
       "GradientBoostingRegressor(max_depth=10, max_leaf_nodes=50, n_estimators=60,\n",
       "                          random_state=1)"
      ]
     },
     "execution_count": 46,
     "metadata": {},
     "output_type": "execute_result"
    }
   ],
   "source": [
    "# fit the final model\n",
    "model_gb = GradientBoostingRegressor(n_estimators=60, learning_rate=0.1, max_depth=10, max_leaf_nodes=50, random_state=1)\n",
    "model_gb.fit(X_train, y_train)"
   ]
  },
  {
   "cell_type": "code",
   "execution_count": 58,
   "id": "1e1e2650-3d07-4e42-b0b6-637ffa09d1ae",
   "metadata": {
    "execution": {
     "iopub.execute_input": "2023-02-24T06:38:12.115874Z",
     "iopub.status.busy": "2023-02-24T06:38:12.115347Z",
     "iopub.status.idle": "2023-02-24T06:39:51.834680Z",
     "shell.execute_reply": "2023-02-24T06:39:51.833841Z",
     "shell.execute_reply.started": "2023-02-24T06:38:12.115847Z"
    }
   },
   "outputs": [
    {
     "data": {
      "text/html": [
       "<style>#sk-container-id-5 {color: black;background-color: white;}#sk-container-id-5 pre{padding: 0;}#sk-container-id-5 div.sk-toggleable {background-color: white;}#sk-container-id-5 label.sk-toggleable__label {cursor: pointer;display: block;width: 100%;margin-bottom: 0;padding: 0.3em;box-sizing: border-box;text-align: center;}#sk-container-id-5 label.sk-toggleable__label-arrow:before {content: \"▸\";float: left;margin-right: 0.25em;color: #696969;}#sk-container-id-5 label.sk-toggleable__label-arrow:hover:before {color: black;}#sk-container-id-5 div.sk-estimator:hover label.sk-toggleable__label-arrow:before {color: black;}#sk-container-id-5 div.sk-toggleable__content {max-height: 0;max-width: 0;overflow: hidden;text-align: left;background-color: #f0f8ff;}#sk-container-id-5 div.sk-toggleable__content pre {margin: 0.2em;color: black;border-radius: 0.25em;background-color: #f0f8ff;}#sk-container-id-5 input.sk-toggleable__control:checked~div.sk-toggleable__content {max-height: 200px;max-width: 100%;overflow: auto;}#sk-container-id-5 input.sk-toggleable__control:checked~label.sk-toggleable__label-arrow:before {content: \"▾\";}#sk-container-id-5 div.sk-estimator input.sk-toggleable__control:checked~label.sk-toggleable__label {background-color: #d4ebff;}#sk-container-id-5 div.sk-label input.sk-toggleable__control:checked~label.sk-toggleable__label {background-color: #d4ebff;}#sk-container-id-5 input.sk-hidden--visually {border: 0;clip: rect(1px 1px 1px 1px);clip: rect(1px, 1px, 1px, 1px);height: 1px;margin: -1px;overflow: hidden;padding: 0;position: absolute;width: 1px;}#sk-container-id-5 div.sk-estimator {font-family: monospace;background-color: #f0f8ff;border: 1px dotted black;border-radius: 0.25em;box-sizing: border-box;margin-bottom: 0.5em;}#sk-container-id-5 div.sk-estimator:hover {background-color: #d4ebff;}#sk-container-id-5 div.sk-parallel-item::after {content: \"\";width: 100%;border-bottom: 1px solid gray;flex-grow: 1;}#sk-container-id-5 div.sk-label:hover label.sk-toggleable__label {background-color: #d4ebff;}#sk-container-id-5 div.sk-serial::before {content: \"\";position: absolute;border-left: 1px solid gray;box-sizing: border-box;top: 0;bottom: 0;left: 50%;z-index: 0;}#sk-container-id-5 div.sk-serial {display: flex;flex-direction: column;align-items: center;background-color: white;padding-right: 0.2em;padding-left: 0.2em;position: relative;}#sk-container-id-5 div.sk-item {position: relative;z-index: 1;}#sk-container-id-5 div.sk-parallel {display: flex;align-items: stretch;justify-content: center;background-color: white;position: relative;}#sk-container-id-5 div.sk-item::before, #sk-container-id-5 div.sk-parallel-item::before {content: \"\";position: absolute;border-left: 1px solid gray;box-sizing: border-box;top: 0;bottom: 0;left: 50%;z-index: -1;}#sk-container-id-5 div.sk-parallel-item {display: flex;flex-direction: column;z-index: 1;position: relative;background-color: white;}#sk-container-id-5 div.sk-parallel-item:first-child::after {align-self: flex-end;width: 50%;}#sk-container-id-5 div.sk-parallel-item:last-child::after {align-self: flex-start;width: 50%;}#sk-container-id-5 div.sk-parallel-item:only-child::after {width: 0;}#sk-container-id-5 div.sk-dashed-wrapped {border: 1px dashed gray;margin: 0 0.4em 0.5em 0.4em;box-sizing: border-box;padding-bottom: 0.4em;background-color: white;}#sk-container-id-5 div.sk-label label {font-family: monospace;font-weight: bold;display: inline-block;line-height: 1.2em;}#sk-container-id-5 div.sk-label-container {text-align: center;}#sk-container-id-5 div.sk-container {/* jupyter's `normalize.less` sets `[hidden] { display: none; }` but bootstrap.min.css set `[hidden] { display: none !important; }` so we also need the `!important` here to be able to override the default hidden behavior on the sphinx rendered scikit-learn.org. See: https://github.com/scikit-learn/scikit-learn/issues/21755 */display: inline-block !important;position: relative;}#sk-container-id-5 div.sk-text-repr-fallback {display: none;}</style><div id=\"sk-container-id-5\" class=\"sk-top-container\"><div class=\"sk-text-repr-fallback\"><pre>GradientBoostingRegressor(max_depth=10, max_leaf_nodes=50, n_estimators=300,\n",
       "                          random_state=1)</pre><b>In a Jupyter environment, please rerun this cell to show the HTML representation or trust the notebook. <br />On GitHub, the HTML representation is unable to render, please try loading this page with nbviewer.org.</b></div><div class=\"sk-container\" hidden><div class=\"sk-item\"><div class=\"sk-estimator sk-toggleable\"><input class=\"sk-toggleable__control sk-hidden--visually\" id=\"sk-estimator-id-5\" type=\"checkbox\" checked><label for=\"sk-estimator-id-5\" class=\"sk-toggleable__label sk-toggleable__label-arrow\">GradientBoostingRegressor</label><div class=\"sk-toggleable__content\"><pre>GradientBoostingRegressor(max_depth=10, max_leaf_nodes=50, n_estimators=300,\n",
       "                          random_state=1)</pre></div></div></div></div></div>"
      ],
      "text/plain": [
       "GradientBoostingRegressor(max_depth=10, max_leaf_nodes=50, n_estimators=300,\n",
       "                          random_state=1)"
      ]
     },
     "execution_count": 58,
     "metadata": {},
     "output_type": "execute_result"
    }
   ],
   "source": [
    "# fit the final model\n",
    "model_gb = GradientBoostingRegressor(n_estimators=300, learning_rate=0.1, max_depth=10, max_leaf_nodes=50, random_state=1)\n",
    "model_gb.fit(X_train, y_train)"
   ]
  },
  {
   "cell_type": "code",
   "execution_count": 65,
   "id": "e8aa60d5-2fb7-4f99-baf0-82ba5d17f1c8",
   "metadata": {
    "execution": {
     "iopub.execute_input": "2023-02-24T06:53:07.833890Z",
     "iopub.status.busy": "2023-02-24T06:53:07.833446Z",
     "iopub.status.idle": "2023-02-24T06:57:33.886519Z",
     "shell.execute_reply": "2023-02-24T06:57:33.885677Z",
     "shell.execute_reply.started": "2023-02-24T06:53:07.833852Z"
    }
   },
   "outputs": [
    {
     "data": {
      "text/html": [
       "<style>#sk-container-id-6 {color: black;background-color: white;}#sk-container-id-6 pre{padding: 0;}#sk-container-id-6 div.sk-toggleable {background-color: white;}#sk-container-id-6 label.sk-toggleable__label {cursor: pointer;display: block;width: 100%;margin-bottom: 0;padding: 0.3em;box-sizing: border-box;text-align: center;}#sk-container-id-6 label.sk-toggleable__label-arrow:before {content: \"▸\";float: left;margin-right: 0.25em;color: #696969;}#sk-container-id-6 label.sk-toggleable__label-arrow:hover:before {color: black;}#sk-container-id-6 div.sk-estimator:hover label.sk-toggleable__label-arrow:before {color: black;}#sk-container-id-6 div.sk-toggleable__content {max-height: 0;max-width: 0;overflow: hidden;text-align: left;background-color: #f0f8ff;}#sk-container-id-6 div.sk-toggleable__content pre {margin: 0.2em;color: black;border-radius: 0.25em;background-color: #f0f8ff;}#sk-container-id-6 input.sk-toggleable__control:checked~div.sk-toggleable__content {max-height: 200px;max-width: 100%;overflow: auto;}#sk-container-id-6 input.sk-toggleable__control:checked~label.sk-toggleable__label-arrow:before {content: \"▾\";}#sk-container-id-6 div.sk-estimator input.sk-toggleable__control:checked~label.sk-toggleable__label {background-color: #d4ebff;}#sk-container-id-6 div.sk-label input.sk-toggleable__control:checked~label.sk-toggleable__label {background-color: #d4ebff;}#sk-container-id-6 input.sk-hidden--visually {border: 0;clip: rect(1px 1px 1px 1px);clip: rect(1px, 1px, 1px, 1px);height: 1px;margin: -1px;overflow: hidden;padding: 0;position: absolute;width: 1px;}#sk-container-id-6 div.sk-estimator {font-family: monospace;background-color: #f0f8ff;border: 1px dotted black;border-radius: 0.25em;box-sizing: border-box;margin-bottom: 0.5em;}#sk-container-id-6 div.sk-estimator:hover {background-color: #d4ebff;}#sk-container-id-6 div.sk-parallel-item::after {content: \"\";width: 100%;border-bottom: 1px solid gray;flex-grow: 1;}#sk-container-id-6 div.sk-label:hover label.sk-toggleable__label {background-color: #d4ebff;}#sk-container-id-6 div.sk-serial::before {content: \"\";position: absolute;border-left: 1px solid gray;box-sizing: border-box;top: 0;bottom: 0;left: 50%;z-index: 0;}#sk-container-id-6 div.sk-serial {display: flex;flex-direction: column;align-items: center;background-color: white;padding-right: 0.2em;padding-left: 0.2em;position: relative;}#sk-container-id-6 div.sk-item {position: relative;z-index: 1;}#sk-container-id-6 div.sk-parallel {display: flex;align-items: stretch;justify-content: center;background-color: white;position: relative;}#sk-container-id-6 div.sk-item::before, #sk-container-id-6 div.sk-parallel-item::before {content: \"\";position: absolute;border-left: 1px solid gray;box-sizing: border-box;top: 0;bottom: 0;left: 50%;z-index: -1;}#sk-container-id-6 div.sk-parallel-item {display: flex;flex-direction: column;z-index: 1;position: relative;background-color: white;}#sk-container-id-6 div.sk-parallel-item:first-child::after {align-self: flex-end;width: 50%;}#sk-container-id-6 div.sk-parallel-item:last-child::after {align-self: flex-start;width: 50%;}#sk-container-id-6 div.sk-parallel-item:only-child::after {width: 0;}#sk-container-id-6 div.sk-dashed-wrapped {border: 1px dashed gray;margin: 0 0.4em 0.5em 0.4em;box-sizing: border-box;padding-bottom: 0.4em;background-color: white;}#sk-container-id-6 div.sk-label label {font-family: monospace;font-weight: bold;display: inline-block;line-height: 1.2em;}#sk-container-id-6 div.sk-label-container {text-align: center;}#sk-container-id-6 div.sk-container {/* jupyter's `normalize.less` sets `[hidden] { display: none; }` but bootstrap.min.css set `[hidden] { display: none !important; }` so we also need the `!important` here to be able to override the default hidden behavior on the sphinx rendered scikit-learn.org. See: https://github.com/scikit-learn/scikit-learn/issues/21755 */display: inline-block !important;position: relative;}#sk-container-id-6 div.sk-text-repr-fallback {display: none;}</style><div id=\"sk-container-id-6\" class=\"sk-top-container\"><div class=\"sk-text-repr-fallback\"><pre>GradientBoostingRegressor(max_depth=10, max_leaf_nodes=50, n_estimators=1000,\n",
       "                          random_state=1)</pre><b>In a Jupyter environment, please rerun this cell to show the HTML representation or trust the notebook. <br />On GitHub, the HTML representation is unable to render, please try loading this page with nbviewer.org.</b></div><div class=\"sk-container\" hidden><div class=\"sk-item\"><div class=\"sk-estimator sk-toggleable\"><input class=\"sk-toggleable__control sk-hidden--visually\" id=\"sk-estimator-id-6\" type=\"checkbox\" checked><label for=\"sk-estimator-id-6\" class=\"sk-toggleable__label sk-toggleable__label-arrow\">GradientBoostingRegressor</label><div class=\"sk-toggleable__content\"><pre>GradientBoostingRegressor(max_depth=10, max_leaf_nodes=50, n_estimators=1000,\n",
       "                          random_state=1)</pre></div></div></div></div></div>"
      ],
      "text/plain": [
       "GradientBoostingRegressor(max_depth=10, max_leaf_nodes=50, n_estimators=1000,\n",
       "                          random_state=1)"
      ]
     },
     "execution_count": 65,
     "metadata": {},
     "output_type": "execute_result"
    }
   ],
   "source": [
    "# fit the final model\n",
    "model_gb = GradientBoostingRegressor(n_estimators=1000, learning_rate=0.1, max_depth=10, max_leaf_nodes=50, random_state=1)\n",
    "model_gb.fit(X_train, y_train)"
   ]
  },
  {
   "cell_type": "code",
   "execution_count": 47,
   "id": "86e4f2ff",
   "metadata": {
    "execution": {
     "iopub.execute_input": "2023-02-24T06:07:41.128879Z",
     "iopub.status.busy": "2023-02-24T06:07:41.128468Z",
     "iopub.status.idle": "2023-02-24T06:07:41.230569Z",
     "shell.execute_reply": "2023-02-24T06:07:41.229914Z",
     "shell.execute_reply.started": "2023-02-24T06:07:41.128851Z"
    },
    "tags": []
   },
   "outputs": [
    {
     "name": "stdout",
     "output_type": "stream",
     "text": [
      "RMSE :  3099.311232\n",
      "R^2 :  0.981054\n"
     ]
    }
   ],
   "source": [
    "# predict the test result for 60 estimators\n",
    "y_pred = model_gb.predict(X_test)\n",
    "\n",
    "rmse = np.sqrt(MSE(y_test, y_pred))\n",
    "print(\"RMSE : % f\" %(rmse))\n",
    "\n",
    "r2 = r2_score(y_test, y_pred)\n",
    "print(\"R^2 : % f\" %(r2))"
   ]
  },
  {
   "cell_type": "code",
   "execution_count": 59,
   "id": "ed0736d0-ad2c-43f3-9d69-0ee93ae83e04",
   "metadata": {
    "execution": {
     "iopub.execute_input": "2023-02-24T06:39:51.836499Z",
     "iopub.status.busy": "2023-02-24T06:39:51.836180Z",
     "iopub.status.idle": "2023-02-24T06:39:52.088540Z",
     "shell.execute_reply": "2023-02-24T06:39:52.087932Z",
     "shell.execute_reply.started": "2023-02-24T06:39:51.836472Z"
    }
   },
   "outputs": [
    {
     "name": "stdout",
     "output_type": "stream",
     "text": [
      "RMSE :  2460.941477\n",
      "R^2 :  0.988055\n"
     ]
    }
   ],
   "source": [
    "# predict the test result for 300 estimators\n",
    "y_pred = model_gb.predict(X_test)\n",
    "\n",
    "rmse = np.sqrt(MSE(y_test, y_pred))\n",
    "print(\"RMSE : % f\" %(rmse))\n",
    "\n",
    "r2 = r2_score(y_test, y_pred)\n",
    "print(\"R^2 : % f\" %(r2))"
   ]
  },
  {
   "cell_type": "code",
   "execution_count": 66,
   "id": "415beaf3-7e3c-4758-822a-fa4b08f8f86b",
   "metadata": {
    "execution": {
     "iopub.execute_input": "2023-02-24T06:57:33.888338Z",
     "iopub.status.busy": "2023-02-24T06:57:33.888031Z",
     "iopub.status.idle": "2023-02-24T06:57:34.487950Z",
     "shell.execute_reply": "2023-02-24T06:57:34.487341Z",
     "shell.execute_reply.started": "2023-02-24T06:57:33.888312Z"
    }
   },
   "outputs": [
    {
     "name": "stdout",
     "output_type": "stream",
     "text": [
      "RMSE :  1958.542800\n",
      "R^2 :  0.992434\n"
     ]
    }
   ],
   "source": [
    "# predict the test result for 1000 estimators\n",
    "y_pred = model_gb.predict(X_test)\n",
    "\n",
    "rmse = np.sqrt(MSE(y_test, y_pred))\n",
    "print(\"RMSE : % f\" %(rmse))\n",
    "\n",
    "r2 = r2_score(y_test, y_pred)\n",
    "print(\"R^2 : % f\" %(r2))"
   ]
  },
  {
   "cell_type": "code",
   "execution_count": 48,
   "id": "17a74b9a-6b08-423b-875e-82883e9eadd9",
   "metadata": {
    "execution": {
     "iopub.execute_input": "2023-02-24T06:07:46.907657Z",
     "iopub.status.busy": "2023-02-24T06:07:46.907049Z",
     "iopub.status.idle": "2023-02-24T06:08:03.187212Z",
     "shell.execute_reply": "2023-02-24T06:08:03.186433Z",
     "shell.execute_reply.started": "2023-02-24T06:07:46.907631Z"
    },
    "tags": []
   },
   "outputs": [
    {
     "name": "stdout",
     "output_type": "stream",
     "text": [
      "negative MSE: -9965764.265 (268769.264)\n"
     ]
    }
   ],
   "source": [
    "# check cv test -MSE\n",
    "cv = RepeatedKFold(n_splits=5, n_repeats=3, random_state=1)\n",
    "n_scores = cross_val_score(model_gb, X_test, y_test, scoring='neg_mean_squared_error', cv=cv, n_jobs=5, error_score='raise')\n",
    "print('negative MSE: %.3f (%.3f)' % (mean(n_scores), std(n_scores)))"
   ]
  },
  {
   "cell_type": "code",
   "execution_count": 49,
   "id": "217d2d48-14ea-4faa-9404-a6a60fdf4792",
   "metadata": {
    "execution": {
     "iopub.execute_input": "2023-02-24T06:08:03.188900Z",
     "iopub.status.busy": "2023-02-24T06:08:03.188589Z",
     "iopub.status.idle": "2023-02-24T06:08:03.719825Z",
     "shell.execute_reply": "2023-02-24T06:08:03.719202Z",
     "shell.execute_reply.started": "2023-02-24T06:08:03.188871Z"
    },
    "tags": []
   },
   "outputs": [
    {
     "data": {
      "text/plain": [
       "Text(0.5, 0, 'Gradient Boosting Regressor Feature Importance')"
      ]
     },
     "execution_count": 49,
     "metadata": {},
     "output_type": "execute_result"
    },
    {
     "data": {
      "image/png": "[encoded data removed]",
      "text/plain": [
       "<Figure size 1080x1080 with 1 Axes>"
      ]
     },
     "metadata": {
      "needs_background": "light"
     },
     "output_type": "display_data"
    }
   ],
   "source": [
    "sorted_gbidx = model_gb.feature_importances_.argsort()\n",
    "plt.figure(figsize=(15, 15))\n",
    "plt.barh(X.columns[sorted_gbidx], model_gb.feature_importances_[sorted_gbidx])\n",
    "plt.xlabel(\"Gradient Boosting Regressor Feature Importance\")"
   ]
  },
  {
   "cell_type": "markdown",
   "id": "bb480fa4-4f37-4290-9493-efc1b02187d6",
   "metadata": {},
   "source": [
    "### XGBoost"
   ]
  },
  {
   "cell_type": "code",
   "execution_count": 27,
   "id": "55387005-caa6-4e20-ad16-b707d6327954",
   "metadata": {
    "execution": {
     "iopub.execute_input": "2023-02-24T05:32:08.876842Z",
     "iopub.status.busy": "2023-02-24T05:32:08.876202Z",
     "iopub.status.idle": "2023-02-24T05:38:27.972647Z",
     "shell.execute_reply": "2023-02-24T05:38:27.971759Z",
     "shell.execute_reply.started": "2023-02-24T05:32:08.876817Z"
    },
    "tags": []
   },
   "outputs": [
    {
     "name": "stdout",
     "output_type": "stream",
     "text": [
      "Fitting 2 folds for each of 81 candidates, totalling 162 fits\n",
      "best parameters {'learning_rate': 0.1, 'max_depth': 4, 'n_estimators': 1000, 'random_state': 1, 'subsample': 0.75}\n",
      "best score -9080076.737407925\n"
     ]
    }
   ],
   "source": [
    "# grid search hyperparameter\n",
    "XGB = xg.XGBRegressor()\n",
    "search_grid = {'n_estimators':[200,500,1000],\n",
    "               'learning_rate':[.001,0.01,.1],\n",
    "               'max_depth':[1,2,4],\n",
    "               'subsample':[.5,.75,1],\n",
    "               'random_state':[1]}\n",
    "search = GridSearchCV(estimator=XGB,\n",
    "                      param_grid=search_grid,\n",
    "                      scoring='neg_mean_squared_error',\n",
    "                      n_jobs=16,\n",
    "                      cv=2,\n",
    "                      verbose=True)\n",
    "\n",
    "search.fit(X_train,y_train)\n",
    "print('best parameters',search.best_params_)\n",
    "print('best score', search.best_score_)"
   ]
  },
  {
   "cell_type": "code",
   "execution_count": 52,
   "id": "011c72dc-7d0a-4df2-9469-249dd3f4d119",
   "metadata": {
    "execution": {
     "iopub.execute_input": "2023-02-24T06:24:22.494329Z",
     "iopub.status.busy": "2023-02-24T06:24:22.493952Z",
     "iopub.status.idle": "2023-02-24T06:25:28.595267Z",
     "shell.execute_reply": "2023-02-24T06:25:28.594394Z",
     "shell.execute_reply.started": "2023-02-24T06:24:22.494299Z"
    },
    "tags": []
   },
   "outputs": [
    {
     "name": "stdout",
     "output_type": "stream",
     "text": [
      "Fitting 2 folds for each of 15 candidates, totalling 30 fits\n",
      "best parameters {'gamma': 0, 'learning_rate': 0.1, 'max_depth': 4, 'n_estimators': 450, 'random_state': 1, 'subsample': 0.75}\n",
      "best score -10801561.2426495\n"
     ]
    }
   ],
   "source": [
    "# tune for gamma\n",
    "XGB = xg.XGBRegressor()\n",
    "search_grid = {'n_estimators': range(50, 500, 100),\n",
    "               'learning_rate':[.1],\n",
    "               'max_depth':[4],\n",
    "               'gamma': [0, 0.5, 1.0],\n",
    "               'subsample':[.75],\n",
    "               'random_state':[1]}\n",
    "search = GridSearchCV(estimator=XGB,\n",
    "                      param_grid=search_grid,\n",
    "                      scoring='neg_mean_squared_error',\n",
    "                      n_jobs=16,\n",
    "                      cv=2,\n",
    "                      verbose=True)\n",
    "\n",
    "search.fit(X_train,y_train)\n",
    "print('best parameters',search.best_params_)\n",
    "print('best score', search.best_score_)"
   ]
  },
  {
   "cell_type": "code",
   "execution_count": 53,
   "id": "ab449b31-d53f-41b2-ad11-780ff20748d9",
   "metadata": {
    "execution": {
     "iopub.execute_input": "2023-02-24T06:26:16.661464Z",
     "iopub.status.busy": "2023-02-24T06:26:16.660720Z",
     "iopub.status.idle": "2023-02-24T06:28:40.983211Z",
     "shell.execute_reply": "2023-02-24T06:28:40.982332Z",
     "shell.execute_reply.started": "2023-02-24T06:26:16.661426Z"
    },
    "tags": []
   },
   "outputs": [
    {
     "name": "stdout",
     "output_type": "stream",
     "text": [
      "Fitting 2 folds for each of 3 candidates, totalling 6 fits\n",
      "best parameters {'learning_rate': 0.1, 'max_depth': 10, 'n_estimators': 450, 'random_state': 1, 'subsample': 0.75}\n",
      "best score -3716757.5996464575\n"
     ]
    }
   ],
   "source": [
    "# grid search hyperparameter\n",
    "XGB = xg.XGBRegressor()\n",
    "search_grid = {'n_estimators':[450],\n",
    "               'learning_rate':[.1],\n",
    "               'max_depth':[4,6,10],\n",
    "               'subsample':[.75],\n",
    "               'random_state':[1]}\n",
    "search = GridSearchCV(estimator=XGB,\n",
    "                      param_grid=search_grid,\n",
    "                      scoring='neg_mean_squared_error',\n",
    "                      n_jobs=16,\n",
    "                      cv=2,\n",
    "                      verbose=True)\n",
    "\n",
    "search.fit(X_train,y_train)\n",
    "print('best parameters',search.best_params_)\n",
    "print('best score', search.best_score_)"
   ]
  },
  {
   "cell_type": "code",
   "execution_count": 54,
   "id": "82dbd71f-4ce4-44c0-8c9a-bc86cdf79787",
   "metadata": {
    "execution": {
     "iopub.execute_input": "2023-02-24T06:31:24.956522Z",
     "iopub.status.busy": "2023-02-24T06:31:24.956089Z",
     "iopub.status.idle": "2023-02-24T06:32:57.121694Z",
     "shell.execute_reply": "2023-02-24T06:32:57.120872Z",
     "shell.execute_reply.started": "2023-02-24T06:31:24.956489Z"
    },
    "tags": []
   },
   "outputs": [
    {
     "data": {
      "text/html": [
       "<style>#sk-container-id-4 {color: black;background-color: white;}#sk-container-id-4 pre{padding: 0;}#sk-container-id-4 div.sk-toggleable {background-color: white;}#sk-container-id-4 label.sk-toggleable__label {cursor: pointer;display: block;width: 100%;margin-bottom: 0;padding: 0.3em;box-sizing: border-box;text-align: center;}#sk-container-id-4 label.sk-toggleable__label-arrow:before {content: \"▸\";float: left;margin-right: 0.25em;color: #696969;}#sk-container-id-4 label.sk-toggleable__label-arrow:hover:before {color: black;}#sk-container-id-4 div.sk-estimator:hover label.sk-toggleable__label-arrow:before {color: black;}#sk-container-id-4 div.sk-toggleable__content {max-height: 0;max-width: 0;overflow: hidden;text-align: left;background-color: #f0f8ff;}#sk-container-id-4 div.sk-toggleable__content pre {margin: 0.2em;color: black;border-radius: 0.25em;background-color: #f0f8ff;}#sk-container-id-4 input.sk-toggleable__control:checked~div.sk-toggleable__content {max-height: 200px;max-width: 100%;overflow: auto;}#sk-container-id-4 input.sk-toggleable__control:checked~label.sk-toggleable__label-arrow:before {content: \"▾\";}#sk-container-id-4 div.sk-estimator input.sk-toggleable__control:checked~label.sk-toggleable__label {background-color: #d4ebff;}#sk-container-id-4 div.sk-label input.sk-toggleable__control:checked~label.sk-toggleable__label {background-color: #d4ebff;}#sk-container-id-4 input.sk-hidden--visually {border: 0;clip: rect(1px 1px 1px 1px);clip: rect(1px, 1px, 1px, 1px);height: 1px;margin: -1px;overflow: hidden;padding: 0;position: absolute;width: 1px;}#sk-container-id-4 div.sk-estimator {font-family: monospace;background-color: #f0f8ff;border: 1px dotted black;border-radius: 0.25em;box-sizing: border-box;margin-bottom: 0.5em;}#sk-container-id-4 div.sk-estimator:hover {background-color: #d4ebff;}#sk-container-id-4 div.sk-parallel-item::after {content: \"\";width: 100%;border-bottom: 1px solid gray;flex-grow: 1;}#sk-container-id-4 div.sk-label:hover label.sk-toggleable__label {background-color: #d4ebff;}#sk-container-id-4 div.sk-serial::before {content: \"\";position: absolute;border-left: 1px solid gray;box-sizing: border-box;top: 0;bottom: 0;left: 50%;z-index: 0;}#sk-container-id-4 div.sk-serial {display: flex;flex-direction: column;align-items: center;background-color: white;padding-right: 0.2em;padding-left: 0.2em;position: relative;}#sk-container-id-4 div.sk-item {position: relative;z-index: 1;}#sk-container-id-4 div.sk-parallel {display: flex;align-items: stretch;justify-content: center;background-color: white;position: relative;}#sk-container-id-4 div.sk-item::before, #sk-container-id-4 div.sk-parallel-item::before {content: \"\";position: absolute;border-left: 1px solid gray;box-sizing: border-box;top: 0;bottom: 0;left: 50%;z-index: -1;}#sk-container-id-4 div.sk-parallel-item {display: flex;flex-direction: column;z-index: 1;position: relative;background-color: white;}#sk-container-id-4 div.sk-parallel-item:first-child::after {align-self: flex-end;width: 50%;}#sk-container-id-4 div.sk-parallel-item:last-child::after {align-self: flex-start;width: 50%;}#sk-container-id-4 div.sk-parallel-item:only-child::after {width: 0;}#sk-container-id-4 div.sk-dashed-wrapped {border: 1px dashed gray;margin: 0 0.4em 0.5em 0.4em;box-sizing: border-box;padding-bottom: 0.4em;background-color: white;}#sk-container-id-4 div.sk-label label {font-family: monospace;font-weight: bold;display: inline-block;line-height: 1.2em;}#sk-container-id-4 div.sk-label-container {text-align: center;}#sk-container-id-4 div.sk-container {/* jupyter's `normalize.less` sets `[hidden] { display: none; }` but bootstrap.min.css set `[hidden] { display: none !important; }` so we also need the `!important` here to be able to override the default hidden behavior on the sphinx rendered scikit-learn.org. See: https://github.com/scikit-learn/scikit-learn/issues/21755 */display: inline-block !important;position: relative;}#sk-container-id-4 div.sk-text-repr-fallback {display: none;}</style><div id=\"sk-container-id-4\" class=\"sk-top-container\"><div class=\"sk-text-repr-fallback\"><pre>XGBRegressor(base_score=0.5, booster=&#x27;gbtree&#x27;, callbacks=None,\n",
       "             colsample_bylevel=1, colsample_bynode=1, colsample_bytree=1,\n",
       "             early_stopping_rounds=None, enable_categorical=False,\n",
       "             eval_metric=None, feature_types=None, gamma=0, gpu_id=-1,\n",
       "             grow_policy=&#x27;depthwise&#x27;, importance_type=None,\n",
       "             interaction_constraints=&#x27;&#x27;, learning_rate=0.1, max_bin=256,\n",
       "             max_cat_threshold=64, max_cat_to_onehot=4, max_delta_step=0,\n",
       "             max_depth=10, max_leaves=0, min_child_weight=1, missing=nan,\n",
       "             monotone_constraints=&#x27;()&#x27;, n_estimators=1000, n_jobs=0,\n",
       "             num_parallel_tree=1, predictor=&#x27;auto&#x27;, random_state=1, ...)</pre><b>In a Jupyter environment, please rerun this cell to show the HTML representation or trust the notebook. <br />On GitHub, the HTML representation is unable to render, please try loading this page with nbviewer.org.</b></div><div class=\"sk-container\" hidden><div class=\"sk-item\"><div class=\"sk-estimator sk-toggleable\"><input class=\"sk-toggleable__control sk-hidden--visually\" id=\"sk-estimator-id-4\" type=\"checkbox\" checked><label for=\"sk-estimator-id-4\" class=\"sk-toggleable__label sk-toggleable__label-arrow\">XGBRegressor</label><div class=\"sk-toggleable__content\"><pre>XGBRegressor(base_score=0.5, booster=&#x27;gbtree&#x27;, callbacks=None,\n",
       "             colsample_bylevel=1, colsample_bynode=1, colsample_bytree=1,\n",
       "             early_stopping_rounds=None, enable_categorical=False,\n",
       "             eval_metric=None, feature_types=None, gamma=0, gpu_id=-1,\n",
       "             grow_policy=&#x27;depthwise&#x27;, importance_type=None,\n",
       "             interaction_constraints=&#x27;&#x27;, learning_rate=0.1, max_bin=256,\n",
       "             max_cat_threshold=64, max_cat_to_onehot=4, max_delta_step=0,\n",
       "             max_depth=10, max_leaves=0, min_child_weight=1, missing=nan,\n",
       "             monotone_constraints=&#x27;()&#x27;, n_estimators=1000, n_jobs=0,\n",
       "             num_parallel_tree=1, predictor=&#x27;auto&#x27;, random_state=1, ...)</pre></div></div></div></div></div>"
      ],
      "text/plain": [
       "XGBRegressor(base_score=0.5, booster='gbtree', callbacks=None,\n",
       "             colsample_bylevel=1, colsample_bynode=1, colsample_bytree=1,\n",
       "             early_stopping_rounds=None, enable_categorical=False,\n",
       "             eval_metric=None, feature_types=None, gamma=0, gpu_id=-1,\n",
       "             grow_policy='depthwise', importance_type=None,\n",
       "             interaction_constraints='', learning_rate=0.1, max_bin=256,\n",
       "             max_cat_threshold=64, max_cat_to_onehot=4, max_delta_step=0,\n",
       "             max_depth=10, max_leaves=0, min_child_weight=1, missing=nan,\n",
       "             monotone_constraints='()', n_estimators=1000, n_jobs=0,\n",
       "             num_parallel_tree=1, predictor='auto', random_state=1, ...)"
      ]
     },
     "execution_count": 54,
     "metadata": {},
     "output_type": "execute_result"
    }
   ],
   "source": [
    "# fit the final model\n",
    "model_xgb = xg.XGBRegressor(learning_rate=0.1, max_depth=10, n_estimators=1000, random_state=1,subsample=0.75)\n",
    "model_xgb.fit(X_train, y_train)"
   ]
  },
  {
   "cell_type": "code",
   "execution_count": 60,
   "id": "59bc92bd-cf8a-4742-94dd-019eab35ed80",
   "metadata": {
    "execution": {
     "iopub.execute_input": "2023-02-24T06:41:20.841645Z",
     "iopub.status.busy": "2023-02-24T06:41:20.841109Z",
     "iopub.status.idle": "2023-02-24T06:41:21.144157Z",
     "shell.execute_reply": "2023-02-24T06:41:21.143536Z",
     "shell.execute_reply.started": "2023-02-24T06:41:20.841616Z"
    },
    "tags": []
   },
   "outputs": [
    {
     "name": "stdout",
     "output_type": "stream",
     "text": [
      "RMSE :  1792.751961\n",
      "R^2 :  0.993661\n"
     ]
    }
   ],
   "source": [
    "# predict the test result\n",
    "y_pred = model_xgb.predict(X_test)\n",
    "\n",
    "rmse = np.sqrt(MSE(y_test, y_pred))\n",
    "print(\"RMSE : % f\" %(rmse))\n",
    "\n",
    "r2 = r2_score(y_test, y_pred)\n",
    "print(\"R^2 : % f\" %(r2))"
   ]
  },
  {
   "cell_type": "code",
   "execution_count": 56,
   "id": "99dfd15e-8a2c-40f9-bd0c-f76300d40f5e",
   "metadata": {
    "execution": {
     "iopub.execute_input": "2023-02-24T06:35:28.252852Z",
     "iopub.status.busy": "2023-02-24T06:35:28.252341Z",
     "iopub.status.idle": "2023-02-24T06:37:15.583851Z",
     "shell.execute_reply": "2023-02-24T06:37:15.583103Z",
     "shell.execute_reply.started": "2023-02-24T06:35:28.252826Z"
    },
    "tags": []
   },
   "outputs": [
    {
     "name": "stdout",
     "output_type": "stream",
     "text": [
      "negative MSE: -5319640.782 (229267.998)\n"
     ]
    }
   ],
   "source": [
    "# cv negative MSE for test set\n",
    "cv = RepeatedKFold(n_splits=5, n_repeats=3, random_state=1)\n",
    "n_scores = cross_val_score(model_xgb, X_test, y_test, scoring='neg_mean_squared_error', cv=cv, n_jobs=16, error_score='raise')\n",
    "print('negative MSE: %.3f (%.3f)' % (mean(n_scores), std(n_scores)))"
   ]
  },
  {
   "cell_type": "code",
   "execution_count": 63,
   "id": "d167e656-c344-4dda-8c62-9e7464fd12c3",
   "metadata": {
    "execution": {
     "iopub.execute_input": "2023-02-24T06:43:00.621647Z",
     "iopub.status.busy": "2023-02-24T06:43:00.620964Z",
     "iopub.status.idle": "2023-02-24T06:43:00.627220Z",
     "shell.execute_reply": "2023-02-24T06:43:00.626617Z",
     "shell.execute_reply.started": "2023-02-24T06:43:00.621619Z"
    }
   },
   "outputs": [
    {
     "data": {
      "text/plain": [
       "827.7173480875139"
      ]
     },
     "execution_count": 63,
     "metadata": {},
     "output_type": "execute_result"
    }
   ],
   "source": [
    "# MAE\n",
    "np.mean(abs(y_pred-y_test)) "
   ]
  },
  {
   "cell_type": "code",
   "execution_count": 57,
   "id": "ecf2b045-c17b-40a2-a1fd-15f0cc008388",
   "metadata": {
    "execution": {
     "iopub.execute_input": "2023-02-24T06:37:15.585626Z",
     "iopub.status.busy": "2023-02-24T06:37:15.585261Z",
     "iopub.status.idle": "2023-02-24T06:37:16.137932Z",
     "shell.execute_reply": "2023-02-24T06:37:16.137364Z",
     "shell.execute_reply.started": "2023-02-24T06:37:15.585589Z"
    },
    "tags": []
   },
   "outputs": [
    {
     "data": {
      "text/plain": [
       "Text(0.5, 0, 'XGBoost Feature Importance')"
      ]
     },
     "execution_count": 57,
     "metadata": {},
     "output_type": "execute_result"
    },
    {
     "data": {
      "image/png": "[encoded data removed]",
      "text/plain": [
       "<Figure size 1080x1080 with 1 Axes>"
      ]
     },
     "metadata": {
      "needs_background": "light"
     },
     "output_type": "display_data"
    }
   ],
   "source": [
    "sorted_xgbidx = model_xgb.feature_importances_.argsort()\n",
    "plt.figure(figsize=(15, 15))\n",
    "plt.barh(X.columns[sorted_xgbidx], model_xgb.feature_importances_[sorted_xgbidx])\n",
    "plt.xlabel(\"XGBoost Feature Importance\")"
   ]
  },
  {
   "cell_type": "code",
   "execution_count": 61,
   "id": "26d64bae-de36-449d-b567-bb2160fc5606",
   "metadata": {
    "execution": {
     "iopub.execute_input": "2023-02-24T06:41:26.825885Z",
     "iopub.status.busy": "2023-02-24T06:41:26.825361Z",
     "iopub.status.idle": "2023-02-24T06:41:26.830497Z",
     "shell.execute_reply": "2023-02-24T06:41:26.829978Z",
     "shell.execute_reply.started": "2023-02-24T06:41:26.825858Z"
    }
   },
   "outputs": [
    {
     "data": {
      "text/plain": [
       "array([63247.965 ,  2265.0588,  7840.4507, ...,  3301.3584, 52161.918 ,\n",
       "        3931.4717], dtype=float32)"
      ]
     },
     "execution_count": 61,
     "metadata": {},
     "output_type": "execute_result"
    }
   ],
   "source": [
    "y_pred"
   ]
  },
  {
   "cell_type": "code",
   "execution_count": 62,
   "id": "6e3b2a7c-824f-432a-aedf-5ebf9ac08d18",
   "metadata": {
    "execution": {
     "iopub.execute_input": "2023-02-24T06:41:30.353617Z",
     "iopub.status.busy": "2023-02-24T06:41:30.352947Z",
     "iopub.status.idle": "2023-02-24T06:41:30.359223Z",
     "shell.execute_reply": "2023-02-24T06:41:30.358682Z",
     "shell.execute_reply.started": "2023-02-24T06:41:30.353590Z"
    }
   },
   "outputs": [
    {
     "data": {
      "text/plain": [
       "42117     70588\n",
       "178731     2202\n",
       "243678     7767\n",
       "184974     7813\n",
       "222136    10017\n",
       "          ...  \n",
       "189561     5322\n",
       "192023     3720\n",
       "153250     3334\n",
       "18963     50957\n",
       "199765     3999\n",
       "Name: price, Length: 54127, dtype: int64"
      ]
     },
     "execution_count": 62,
     "metadata": {},
     "output_type": "execute_result"
    }
   ],
   "source": [
    "y_test"
   ]
  },
  {
   "cell_type": "code",
   "execution_count": null,
   "id": "4a7df26e-5a03-4ec1-92d4-a5ebddb26b6d",
   "metadata": {},
   "outputs": [],
   "source": []
  }
 ],
 "metadata": {
  "kernelspec": {
   "display_name": "Python 3 (ipykernel)",
   "language": "python",
   "name": "python3"
  },
  "language_info": {
   "codemirror_mode": {
    "name": "ipython",
    "version": 3
   },
   "file_extension": ".py",
   "mimetype": "text/x-python",
   "name": "python",
   "nbconvert_exporter": "python",
   "pygments_lexer": "ipython3",
   "version": "3.9.12"
  }
 },
 "nbformat": 4,
 "nbformat_minor": 5
}
